{
 "cells": [
  {
   "cell_type": "code",
   "execution_count": 45,
   "metadata": {},
   "outputs": [
    {
     "data": {
      "text/plain": [
       "['/Users/jacky/Desktop/programming/kalman_filter/lib/data1/1_acceleration.pickle',\n",
       " '/Users/jacky/Desktop/programming/kalman_filter/lib/data1/1_position.pickle',\n",
       " '/Users/jacky/Desktop/programming/kalman_filter/lib/data1/1_true.pickle',\n",
       " '/Users/jacky/Desktop/programming/kalman_filter/lib/data1/1_velocity.pickle',\n",
       " '/Users/jacky/Desktop/programming/kalman_filter/lib/data2/2_acceleration.pickle',\n",
       " '/Users/jacky/Desktop/programming/kalman_filter/lib/data2/2_position.pickle',\n",
       " '/Users/jacky/Desktop/programming/kalman_filter/lib/data2/2_true.pickle',\n",
       " '/Users/jacky/Desktop/programming/kalman_filter/lib/data2/2_velocity.pickle',\n",
       " '/Users/jacky/Desktop/programming/kalman_filter/lib/data3/3_acceleration.pickle',\n",
       " '/Users/jacky/Desktop/programming/kalman_filter/lib/data3/3_position.pickle',\n",
       " '/Users/jacky/Desktop/programming/kalman_filter/lib/data3/3_true.pickle',\n",
       " '/Users/jacky/Desktop/programming/kalman_filter/lib/data3/3_velocity.pickle',\n",
       " '/Users/jacky/Desktop/programming/kalman_filter/lib/data4/4_acceleration.pickle',\n",
       " '/Users/jacky/Desktop/programming/kalman_filter/lib/data4/4_position.pickle',\n",
       " '/Users/jacky/Desktop/programming/kalman_filter/lib/data4/4_true.pickle',\n",
       " '/Users/jacky/Desktop/programming/kalman_filter/lib/data4/4_velocity.pickle']"
      ]
     },
     "execution_count": 45,
     "metadata": {},
     "output_type": "execute_result"
    }
   ],
   "source": [
    "import os\n",
    "\n",
    "def get_data():\n",
    "    CURRENT_PATH = os.getcwd()\n",
    "    DATA_PATH = os.path.join(CURRENT_PATH, \"lib/\")\n",
    "\n",
    "    DATA = []\n",
    "    for i in os.listdir(DATA_PATH):\n",
    "        if \"data\" in i: DATA.append(i)\n",
    "\n",
    "    measure = []\n",
    "    for data in DATA:\n",
    "        path = os.path.join(DATA_PATH, data)\n",
    "        for i in os.listdir(path):\n",
    "            if i == \".DS_Store\": \n",
    "                continue\n",
    "            elif i == \".ipynb_checkpoints\":\n",
    "                continue\n",
    "            else:\n",
    "                measure.append(os.path.join(path,i))\n",
    "\n",
    "    measure = sorted(measure)\n",
    "    return measure\n",
    "    # for i in measure:\n",
    "    #     os.path.join(DATA_PATH\n",
    "\n",
    "get_data()"
   ]
  },
  {
   "cell_type": "code",
   "execution_count": null,
   "metadata": {},
   "outputs": [],
   "source": [
    "data1/ positoin - velocity - accerelration\n",
    "data1/ positoin - velocity - accerelration\n",
    "data1/ positoin - velocity - accerelration\n",
    "data1/ positoin - velocity - accerelration"
   ]
  }
 ],
 "metadata": {
  "kernelspec": {
   "display_name": "Python 3",
   "language": "python",
   "name": "python3"
  },
  "language_info": {
   "codemirror_mode": {
    "name": "ipython",
    "version": 3
   },
   "file_extension": ".py",
   "mimetype": "text/x-python",
   "name": "python",
   "nbconvert_exporter": "python",
   "pygments_lexer": "ipython3",
   "version": "3.7.4"
  }
 },
 "nbformat": 4,
 "nbformat_minor": 2
}
