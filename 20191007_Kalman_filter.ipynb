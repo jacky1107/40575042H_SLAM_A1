{
 "cells": [
  {
   "cell_type": "code",
   "execution_count": 1,
   "metadata": {
    "scrolled": true
   },
   "outputs": [],
   "source": [
    "%matplotlib inline\n",
    "import numpy as np\n",
    "import matplotlib.pyplot as plt\n",
    "\n",
    "size = 100\n",
    "\n",
    "x = np.linspace(0, 100, size)\n",
    "Z = np.random.normal(0,2, size) + x - np.random.normal(3, 5, size)\n",
    "\n",
    "X = np.array([-10,-100]) #狀態\n",
    "\n",
    "P = np.array([[1, 0], #狀態斜方差矩陣\n",
    "              [0, 1]])\n",
    "\n",
    "F = np.array([[1, 1], #狀態轉移矩陣\n",
    "              [0, 1]])#每秒鐘採樣\n",
    "\n",
    "Q = np.array([[1e-4, 0],#狀態轉移斜方差矩陣\n",
    "              [0, 1e-4]])\n",
    "\n",
    "H = np.array([1,0]) #觀測矩陣\n",
    "\n",
    "R = 1 #觀測噪聲方差\n",
    "\n",
    "FT = np.transpose(F)\n",
    "HT = np.transpose(H)\n",
    "\n",
    "I  = np.eye(2)\n",
    "\n",
    "plt.ion()\n",
    "plt.plot(x, Z)\n",
    "\n",
    "for i in range(size):\n",
    "    \n",
    "    X_ = F*X\n",
    "    P_ = F*P*FT + Q\n",
    "    K  = P_*HT*np.linalg.inv(H*P_*HT + R)\n",
    "    X  = X_ + K*(Z[i] - H*X_)\n",
    "    P  = (I - K*H) * P_\n",
    "\n",
    "    # if 'sca' in globals(): sca.remove()    \n",
    "    sca = plt.scatter( x[i], X[0][0] ); plt.pause(0.01)"
   ]
  },
  {
   "cell_type": "code",
   "execution_count": null,
   "metadata": {},
   "outputs": [],
   "source": []
  },
  {
   "cell_type": "code",
   "execution_count": null,
   "metadata": {},
   "outputs": [],
   "source": []
  }
 ],
 "metadata": {
  "kernelspec": {
   "display_name": "Python 3",
   "language": "python",
   "name": "python3"
  },
  "language_info": {
   "codemirror_mode": {
    "name": "ipython",
    "version": 3
   },
   "file_extension": ".py",
   "mimetype": "text/x-python",
   "name": "python",
   "nbconvert_exporter": "python",
   "pygments_lexer": "ipython3",
   "version": "3.7.4"
  }
 },
 "nbformat": 4,
 "nbformat_minor": 2
}
